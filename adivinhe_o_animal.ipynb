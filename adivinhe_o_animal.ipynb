{
  "nbformat": 4,
  "nbformat_minor": 0,
  "metadata": {
    "colab": {
      "provenance": [],
      "authorship_tag": "ABX9TyMruMAycMcuFuSuEQTkLXN8",
      "include_colab_link": true
    },
    "kernelspec": {
      "name": "python3",
      "display_name": "Python 3"
    },
    "language_info": {
      "name": "python"
    }
  },
  "cells": [
    {
      "cell_type": "markdown",
      "metadata": {
        "id": "view-in-github",
        "colab_type": "text"
      },
      "source": [
        "<a href=\"https://colab.research.google.com/github/alexj2100/imersao_ia_alura/blob/main/adivinhe_o_animal.ipynb\" target=\"_parent\"><img src=\"https://colab.research.google.com/assets/colab-badge.svg\" alt=\"Open In Colab\"/></a>"
      ]
    },
    {
      "cell_type": "code",
      "execution_count": 5,
      "metadata": {
        "id": "WcANjo64cvm7",
        "outputId": "f6b266b1-3530-4f35-dd59-487e8461f98f",
        "colab": {
          "base_uri": "https://localhost:8080/"
        }
      },
      "outputs": [
        {
          "output_type": "stream",
          "name": "stdout",
          "text": [
            "g-api-key\n"
          ]
        }
      ],
      "source": [
        "print('g-api-key')"
      ]
    },
    {
      "cell_type": "code",
      "source": [
        "pip install -q -U google-generativeai"
      ],
      "metadata": {
        "id": "fa8yPWd6Uqqm"
      },
      "execution_count": 6,
      "outputs": []
    },
    {
      "cell_type": "code",
      "source": [],
      "metadata": {
        "id": "omxceEUGUukp"
      },
      "execution_count": null,
      "outputs": []
    },
    {
      "cell_type": "code",
      "source": [
        "import pathlib\n",
        "import textwrap\n",
        "\n",
        "import google.generativeai as genai\n",
        "\n",
        "from IPython.display import display\n",
        "from IPython.display import Markdown\n",
        "\n",
        "\n",
        "def to_markdown(text):\n",
        "  text = text.replace('•', '  *')\n",
        "  return Markdown(textwrap.indent(text, '> ', predicate=lambda _: True))"
      ],
      "metadata": {
        "id": "EBwrbVX-VJ0Z"
      },
      "execution_count": 7,
      "outputs": []
    },
    {
      "cell_type": "code",
      "source": [
        "# Used to securely store your API key\n",
        "from google.colab import userdata"
      ],
      "metadata": {
        "id": "EFkFcxG7VND7"
      },
      "execution_count": 8,
      "outputs": []
    },
    {
      "cell_type": "code",
      "source": [
        "# Or use `os.getenv('GOOGLE_API_KEY')` to fetch an environment variable.\n",
        "GOOGLE_API_KEY=userdata.get('GOOGLE_API_KEY')\n",
        "\n",
        "genai.configure(api_key=GOOGLE_API_KEY)"
      ],
      "metadata": {
        "id": "m4rebNwvVTPX"
      },
      "execution_count": 13,
      "outputs": []
    },
    {
      "cell_type": "code",
      "source": [
        "for m in genai.list_models():\n",
        "  if 'generateContent' in m.supported_generation_methods:\n",
        "    print(m.name)"
      ],
      "metadata": {
        "colab": {
          "base_uri": "https://localhost:8080/",
          "height": 139
        },
        "id": "PSMabQohWKnS",
        "outputId": "bb43b209-7bd2-4c8f-8174-0bd8872ec173"
      },
      "execution_count": 14,
      "outputs": [
        {
          "output_type": "stream",
          "name": "stdout",
          "text": [
            "models/gemini-1.0-pro\n",
            "models/gemini-1.0-pro-001\n",
            "models/gemini-1.0-pro-latest\n",
            "models/gemini-1.0-pro-vision-latest\n",
            "models/gemini-1.5-pro-latest\n",
            "models/gemini-pro\n",
            "models/gemini-pro-vision\n"
          ]
        }
      ]
    },
    {
      "cell_type": "code",
      "source": [
        "model = genai.GenerativeModel('gemini-pro')"
      ],
      "metadata": {
        "id": "Y2RSGwjkWP_l"
      },
      "execution_count": 15,
      "outputs": []
    },
    {
      "cell_type": "code",
      "source": [
        "%%time\n",
        "response = model.generate_content(\"Quais foram os ganhadores da copa do Brasil?\")"
      ],
      "metadata": {
        "colab": {
          "base_uri": "https://localhost:8080/",
          "height": 52
        },
        "id": "Ap53sbv-WX6h",
        "outputId": "2102dca3-adba-4e6e-9378-3f9038006646"
      },
      "execution_count": 18,
      "outputs": [
        {
          "output_type": "stream",
          "name": "stdout",
          "text": [
            "CPU times: user 125 ms, sys: 8.93 ms, total: 134 ms\n",
            "Wall time: 7.49 s\n"
          ]
        }
      ]
    },
    {
      "cell_type": "code",
      "source": [
        "to_markdown(response.text)"
      ],
      "metadata": {
        "colab": {
          "base_uri": "https://localhost:8080/",
          "height": 632
        },
        "id": "_jKYpehfWbki",
        "outputId": "505d1ed2-4201-4ad8-fffe-2c3738f66c27"
      },
      "execution_count": 19,
      "outputs": [
        {
          "output_type": "execute_result",
          "data": {
            "text/plain": [
              "<IPython.core.display.Markdown object>"
            ],
            "text/markdown": "> **Campeões da Copa do Brasil:**\n> \n> 1. 1989: Grêmio\n> 2. 1990: Flamengo\n> 3. 1991: Criciúma\n> 4. 1992: Internacional\n> 5. 1993: Grêmio\n> 6. 1994: Grêmio\n> 7. 1996: Cruzeiro\n> 8. 1997: Grêmio\n> 9. 1999: Juventude\n> 10. 2000: Cruzeiro\n> 11. 2001: Grêmio\n> 12. 2002: Corinthians\n> 13. 2003: Cruzeiro\n> 14. 2004: Santo André\n> 15. 2005: Paulista\n> 16. 2006: Flamengo\n> 17. 2007: Fluminense\n> 18. 2008: Sport\n> 19. 2009: Corinthians\n> 20. 2010: Santos\n> 21. 2011: Vasco da Gama\n> 22. 2012: Palmeiras\n> 23. 2013: Flamengo\n> 24. 2014: Atlético Mineiro\n> 25. 2015: Palmeiras\n> 26. 2016: Grêmio\n> 27. 2017: Grêmio\n> 28. 2018: Cruzeiro\n> 29. 2019: Athletico Paranaense\n> 30. 2020: Palmeiras\n> 31. 2021: Atlético Mineiro\n> 32. 2022: Flamengo"
          },
          "metadata": {},
          "execution_count": 19
        }
      ]
    }
  ]
}